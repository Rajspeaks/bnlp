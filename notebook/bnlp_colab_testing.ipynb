{
  "nbformat": 4,
  "nbformat_minor": 0,
  "metadata": {
    "colab": {
      "name": "bnlp_colab.ipynb",
      "provenance": [],
      "toc_visible": true,
      "authorship_tag": "ABX9TyMY/cP7DEkAqU5s4JRQAoCa",
      "include_colab_link": true
    },
    "kernelspec": {
      "name": "python3",
      "display_name": "Python 3"
    }
  },
  "cells": [
    {
      "cell_type": "markdown",
      "metadata": {
        "id": "view-in-github",
        "colab_type": "text"
      },
      "source": [
        "<a href=\"https://colab.research.google.com/github/sagorbrur/bnlp/blob/master/notebook/bnlp_colab_testing.ipynb\" target=\"_parent\"><img src=\"https://colab.research.google.com/assets/colab-badge.svg\" alt=\"Open In Colab\"/></a>"
      ]
    },
    {
      "cell_type": "markdown",
      "metadata": {
        "id": "xqHRllMHSiDH"
      },
      "source": [
        "# BNLP\n",
        "BNLP is a natural language processing toolkit for Bengali Language. This tool will help you to tokenize Bengali text, Embedding Bengali words, Bengali POS Tagging, Construct Neural Model for Bengali NLP purposes.\n",
        "\n",
        "Here we provide a to z api level use of **BNLP**"
      ]
    },
    {
      "cell_type": "markdown",
      "metadata": {
        "id": "SXurTR8rSzdT"
      },
      "source": [
        "## Installation"
      ]
    },
    {
      "cell_type": "code",
      "metadata": {
        "id": "EqRr2C1sSag_",
        "outputId": "b5ede389-79d2-4732-dc60-dd385475db00",
        "colab": {
          "base_uri": "https://localhost:8080/",
          "height": 462
        }
      },
      "source": [
        "!pip install -U bnlp_toolkit"
      ],
      "execution_count": 1,
      "outputs": [
        {
          "output_type": "stream",
          "text": [
            "Collecting bnlp_toolkit\n",
            "  Downloading https://files.pythonhosted.org/packages/16/be/44d78b55ad8121cce1ca0bdbc7cf1db8d3f585006bacb08bd53ec8653957/bnlp_toolkit-3.0.0-py3-none-any.whl\n",
            "Collecting sklearn-crfsuite\n",
            "  Downloading https://files.pythonhosted.org/packages/25/74/5b7befa513482e6dee1f3dd68171a6c9dfc14c0eaa00f885ffeba54fe9b0/sklearn_crfsuite-0.3.6-py2.py3-none-any.whl\n",
            "Requirement already satisfied, skipping upgrade: scipy in /usr/local/lib/python3.6/dist-packages (from bnlp_toolkit) (1.4.1)\n",
            "Collecting sentencepiece\n",
            "\u001b[?25l  Downloading https://files.pythonhosted.org/packages/d4/a4/d0a884c4300004a78cca907a6ff9a5e9fe4f090f5d95ab341c53d28cbc58/sentencepiece-0.1.91-cp36-cp36m-manylinux1_x86_64.whl (1.1MB)\n",
            "\u001b[K     |████████████████████████████████| 1.1MB 6.2MB/s \n",
            "\u001b[?25hRequirement already satisfied, skipping upgrade: gensim in /usr/local/lib/python3.6/dist-packages (from bnlp_toolkit) (3.6.0)\n",
            "Requirement already satisfied, skipping upgrade: numpy in /usr/local/lib/python3.6/dist-packages (from bnlp_toolkit) (1.18.5)\n",
            "Requirement already satisfied, skipping upgrade: nltk in /usr/local/lib/python3.6/dist-packages (from bnlp_toolkit) (3.2.5)\n",
            "Requirement already satisfied, skipping upgrade: tabulate in /usr/local/lib/python3.6/dist-packages (from sklearn-crfsuite->bnlp_toolkit) (0.8.7)\n",
            "Requirement already satisfied, skipping upgrade: tqdm>=2.0 in /usr/local/lib/python3.6/dist-packages (from sklearn-crfsuite->bnlp_toolkit) (4.41.1)\n",
            "Requirement already satisfied, skipping upgrade: six in /usr/local/lib/python3.6/dist-packages (from sklearn-crfsuite->bnlp_toolkit) (1.15.0)\n",
            "Collecting python-crfsuite>=0.8.3\n",
            "\u001b[?25l  Downloading https://files.pythonhosted.org/packages/95/99/869dde6dbf3e0d07a013c8eebfb0a3d30776334e0097f8432b631a9a3a19/python_crfsuite-0.9.7-cp36-cp36m-manylinux1_x86_64.whl (743kB)\n",
            "\u001b[K     |████████████████████████████████| 747kB 65.6MB/s \n",
            "\u001b[?25hRequirement already satisfied, skipping upgrade: smart-open>=1.2.1 in /usr/local/lib/python3.6/dist-packages (from gensim->bnlp_toolkit) (2.2.0)\n",
            "Requirement already satisfied, skipping upgrade: requests in /usr/local/lib/python3.6/dist-packages (from smart-open>=1.2.1->gensim->bnlp_toolkit) (2.23.0)\n",
            "Requirement already satisfied, skipping upgrade: urllib3!=1.25.0,!=1.25.1,<1.26,>=1.21.1 in /usr/local/lib/python3.6/dist-packages (from requests->smart-open>=1.2.1->gensim->bnlp_toolkit) (1.24.3)\n",
            "Requirement already satisfied, skipping upgrade: idna<3,>=2.5 in /usr/local/lib/python3.6/dist-packages (from requests->smart-open>=1.2.1->gensim->bnlp_toolkit) (2.10)\n",
            "Requirement already satisfied, skipping upgrade: chardet<4,>=3.0.2 in /usr/local/lib/python3.6/dist-packages (from requests->smart-open>=1.2.1->gensim->bnlp_toolkit) (3.0.4)\n",
            "Requirement already satisfied, skipping upgrade: certifi>=2017.4.17 in /usr/local/lib/python3.6/dist-packages (from requests->smart-open>=1.2.1->gensim->bnlp_toolkit) (2020.6.20)\n",
            "Installing collected packages: python-crfsuite, sklearn-crfsuite, sentencepiece, bnlp-toolkit\n",
            "Successfully installed bnlp-toolkit-3.0.0 python-crfsuite-0.9.7 sentencepiece-0.1.91 sklearn-crfsuite-0.3.6\n"
          ],
          "name": "stdout"
        }
      ]
    },
    {
      "cell_type": "markdown",
      "metadata": {
        "id": "aYS0EYaLS-OC"
      },
      "source": [
        "## Downloading Pretrained model\n",
        "\n",
        "NB: POS TAG and NER model may need to download from https://github.com/sagorbrur/bnlp/blob/master/model/bn_pos_model.pkl and then upload it to colab. \n",
        "\n",
        "Otherwise it will arise an error. "
      ]
    },
    {
      "cell_type": "code",
      "metadata": {
        "id": "4VHCHzC7TgQZ",
        "outputId": "4944c588-3105-46ef-ae1d-3c22b541b202",
        "colab": {
          "base_uri": "https://localhost:8080/",
          "height": 34
        }
      },
      "source": [
        "!mkdir models\n",
        "%cd models"
      ],
      "execution_count": 2,
      "outputs": [
        {
          "output_type": "stream",
          "text": [
            "/content/models\n"
          ],
          "name": "stdout"
        }
      ]
    },
    {
      "cell_type": "code",
      "metadata": {
        "id": "3d0TozrSTm0x",
        "outputId": "34b41f51-a368-44e1-bd81-301a6a8d3d3f",
        "colab": {
          "base_uri": "https://localhost:8080/",
          "height": 935
        }
      },
      "source": [
        "!wget https://github.com/sagorbrur/bnlp/raw/master/model/bn_spm.model\n",
        "!wget https://github.com/sagorbrur/bnlp/raw/master/model/bn_spm.vocab\n",
        "!wget https://github.com/sagorbrur/bnlp/raw/master/model/bn_pos.pkl\n",
        "!wget https://github.com/sagorbrur/bnlp/raw/master/model/bn_ner.pkl"
      ],
      "execution_count": 3,
      "outputs": [
        {
          "output_type": "stream",
          "text": [
            "--2020-10-21 16:59:37--  https://github.com/sagorbrur/bnlp/raw/master/model/bn_spm.model\n",
            "Resolving github.com (github.com)... 140.82.118.3\n",
            "Connecting to github.com (github.com)|140.82.118.3|:443... connected.\n",
            "HTTP request sent, awaiting response... 302 Found\n",
            "Location: https://raw.githubusercontent.com/sagorbrur/bnlp/master/model/bn_spm.model [following]\n",
            "--2020-10-21 16:59:37--  https://raw.githubusercontent.com/sagorbrur/bnlp/master/model/bn_spm.model\n",
            "Resolving raw.githubusercontent.com (raw.githubusercontent.com)... 151.101.0.133, 151.101.64.133, 151.101.128.133, ...\n",
            "Connecting to raw.githubusercontent.com (raw.githubusercontent.com)|151.101.0.133|:443... connected.\n",
            "HTTP request sent, awaiting response... 200 OK\n",
            "Length: 1703793 (1.6M) [application/octet-stream]\n",
            "Saving to: ‘bn_spm.model’\n",
            "\n",
            "bn_spm.model        100%[===================>]   1.62M  --.-KB/s    in 0.1s    \n",
            "\n",
            "2020-10-21 16:59:38 (14.2 MB/s) - ‘bn_spm.model’ saved [1703793/1703793]\n",
            "\n",
            "--2020-10-21 16:59:38--  https://github.com/sagorbrur/bnlp/raw/master/model/bn_spm.vocab\n",
            "Resolving github.com (github.com)... 140.82.121.4\n",
            "Connecting to github.com (github.com)|140.82.121.4|:443... connected.\n",
            "HTTP request sent, awaiting response... 302 Found\n",
            "Location: https://raw.githubusercontent.com/sagorbrur/bnlp/master/model/bn_spm.vocab [following]\n",
            "--2020-10-21 16:59:39--  https://raw.githubusercontent.com/sagorbrur/bnlp/master/model/bn_spm.vocab\n",
            "Resolving raw.githubusercontent.com (raw.githubusercontent.com)... 151.101.0.133, 151.101.64.133, 151.101.128.133, ...\n",
            "Connecting to raw.githubusercontent.com (raw.githubusercontent.com)|151.101.0.133|:443... connected.\n",
            "HTTP request sent, awaiting response... 200 OK\n",
            "Length: 1510665 (1.4M) [text/plain]\n",
            "Saving to: ‘bn_spm.vocab’\n",
            "\n",
            "bn_spm.vocab        100%[===================>]   1.44M  --.-KB/s    in 0.08s   \n",
            "\n",
            "2020-10-21 16:59:39 (19.2 MB/s) - ‘bn_spm.vocab’ saved [1510665/1510665]\n",
            "\n",
            "--2020-10-21 16:59:39--  https://github.com/sagorbrur/bnlp/blob/master/model/bn_pos.pkl\n",
            "Resolving github.com (github.com)... 140.82.121.3\n",
            "Connecting to github.com (github.com)|140.82.121.3|:443... connected.\n",
            "HTTP request sent, awaiting response... 200 OK\n",
            "Length: unspecified [text/html]\n",
            "Saving to: ‘bn_pos.pkl’\n",
            "\n",
            "bn_pos.pkl              [ <=>                ]  78.28K  --.-KB/s    in 0.02s   \n",
            "\n",
            "2020-10-21 16:59:40 (3.48 MB/s) - ‘bn_pos.pkl’ saved [80154]\n",
            "\n",
            "--2020-10-21 16:59:40--  https://github.com/sagorbrur/bnlp/blob/master/model/bn_ner.pkl\n",
            "Resolving github.com (github.com)... 140.82.121.4\n",
            "Connecting to github.com (github.com)|140.82.121.4|:443... connected.\n",
            "HTTP request sent, awaiting response... 200 OK\n",
            "Length: unspecified [text/html]\n",
            "Saving to: ‘bn_ner.pkl’\n",
            "\n",
            "bn_ner.pkl              [ <=>                ]  78.28K  --.-KB/s    in 0.02s   \n",
            "\n",
            "2020-10-21 16:59:40 (4.03 MB/s) - ‘bn_ner.pkl’ saved [80160]\n",
            "\n"
          ],
          "name": "stdout"
        }
      ]
    },
    {
      "cell_type": "code",
      "metadata": {
        "id": "WV6m0AF7S5IC",
        "outputId": "7e261686-a136-4a5f-85f9-9fd525868b46",
        "colab": {
          "base_uri": "https://localhost:8080/",
          "height": 85
        }
      },
      "source": [
        "!pip install -U -q PyDrive\n",
        "from pydrive.auth import GoogleAuth\n",
        "from pydrive.drive import GoogleDrive\n",
        "from google.colab import auth\n",
        "from oauth2client.client import GoogleCredentials\n",
        "auth.authenticate_user()\n",
        "gauth = GoogleAuth()\n",
        "gauth.credentials = GoogleCredentials.get_application_default()\n",
        "drive = GoogleDrive(gauth)\n",
        "downloaded = drive.CreateFile({'id':\"1cQ8AoSdiX5ATYOzcTjCqpLCV1efB9QzT\"})\n",
        "downloaded.GetContentFile('bangla_word2vec_gen4.zip')\n",
        "!unzip bangla_word2vec_gen4.zip\n",
        "!rm -rf bangla_word2vec_gen4.zip"
      ],
      "execution_count": 4,
      "outputs": [
        {
          "output_type": "stream",
          "text": [
            "Archive:  bengali_word2vec.zip\n",
            "  inflating: bengali_word2vec.model  \n",
            "  inflating: bengali_word2vec.model.trainables.syn1neg.npy  \n",
            "  inflating: bengali_word2vec.model.wv.vectors.npy  \n"
          ],
          "name": "stdout"
        }
      ]
    },
    {
      "cell_type": "code",
      "metadata": {
        "id": "4X8Rb7wwU-dJ",
        "outputId": "4ed82852-8344-429e-d881-eae791401307",
        "colab": {
          "base_uri": "https://localhost:8080/",
          "height": 51
        }
      },
      "source": [
        "!pip install -U -q PyDrive\n",
        "from pydrive.auth import GoogleAuth\n",
        "from pydrive.drive import GoogleDrive\n",
        "from google.colab import auth\n",
        "from oauth2client.client import GoogleCredentials\n",
        "auth.authenticate_user()\n",
        "gauth = GoogleAuth()\n",
        "gauth.credentials = GoogleCredentials.get_application_default()\n",
        "drive = GoogleDrive(gauth)\n",
        "downloaded = drive.CreateFile({'id':\"1CFA-SluRyz3s5gmGScsFUcs7AjLfscm2\"})\n",
        "downloaded.GetContentFile('bengali_fasttext_wiki.zip')\n",
        "!unzip bengali_fasttext_wiki.zip\n",
        "!rm -rf bengali_fasttext_wiki.zip"
      ],
      "execution_count": 5,
      "outputs": [
        {
          "output_type": "stream",
          "text": [
            "Archive:  bengali_fasttext_wiki.zip\n",
            "  inflating: bengali_fasttext_wiki.bin  \n"
          ],
          "name": "stdout"
        }
      ]
    },
    {
      "cell_type": "code",
      "metadata": {
        "id": "L-Csx3qMV6bz",
        "outputId": "30b1e6c4-2009-40b0-8a68-03058b197c9b",
        "colab": {
          "base_uri": "https://localhost:8080/",
          "height": 34
        }
      },
      "source": [
        "%cd .."
      ],
      "execution_count": 6,
      "outputs": [
        {
          "output_type": "stream",
          "text": [
            "/content\n"
          ],
          "name": "stdout"
        }
      ]
    },
    {
      "cell_type": "markdown",
      "metadata": {
        "id": "89_dmCXJWRWc"
      },
      "source": [
        "## Tokenization\n",
        "\n"
      ]
    },
    {
      "cell_type": "markdown",
      "metadata": {
        "id": "VjI8S58uXL3K"
      },
      "source": [
        "### Sentencepiece Tokenizer"
      ]
    },
    {
      "cell_type": "code",
      "metadata": {
        "id": "yTnY9_gWWP7z",
        "outputId": "7ffe1df2-7aa1-4a67-9e81-6f5d92af207e",
        "colab": {
          "base_uri": "https://localhost:8080/",
          "height": 68
        }
      },
      "source": [
        "from bnlp import SentencepieceTokenizer\n",
        "\n",
        "bsp = SentencepieceTokenizer()\n",
        "model_path = \"./models/bn_spm.model\"\n",
        "input_text = \"আমি ভাত খাই। সে বাজারে যায়।\"\n",
        "tokens = bsp.tokenize(model_path, input_text)\n",
        "print(tokens)\n",
        "text2id = bsp.text2id(model_path, input_text)\n",
        "print(text2id)\n",
        "id2text = bsp.id2text(model_path, text2id)\n",
        "print(id2text)"
      ],
      "execution_count": 8,
      "outputs": [
        {
          "output_type": "stream",
          "text": [
            "['▁আমি', '▁ভাত', '▁খাই', '।', '▁সে', '▁বাজারে', '▁যায়', '।']\n",
            "[914, 5265, 24224, 3, 124, 2244, 41, 3]\n",
            "আমি ভাত খাই। সে বাজারে যায়।\n"
          ],
          "name": "stdout"
        }
      ]
    },
    {
      "cell_type": "markdown",
      "metadata": {
        "id": "DhhO65MvXC2C"
      },
      "source": [
        "### Basic Tokenizer"
      ]
    },
    {
      "cell_type": "code",
      "metadata": {
        "id": "NvX910bCW7t6",
        "outputId": "d2e83cdb-6548-4bcb-b226-e6f8708575f1",
        "colab": {
          "base_uri": "https://localhost:8080/",
          "height": 34
        }
      },
      "source": [
        "from bnlp import BasicTokenizer\n",
        "basic_tokenizer = BasicTokenizer()\n",
        "raw_text = \"আমি বাংলায় গান গাই।\"\n",
        "tokens = basic_tokenizer.tokenize(raw_text)\n",
        "print(tokens)\n"
      ],
      "execution_count": 10,
      "outputs": [
        {
          "output_type": "stream",
          "text": [
            "['আমি', 'বাংলায়', 'গান', 'গাই', '।']\n"
          ],
          "name": "stdout"
        }
      ]
    },
    {
      "cell_type": "markdown",
      "metadata": {
        "id": "pTOHycMkXNoC"
      },
      "source": [
        "### NLTK Tokenizer"
      ]
    },
    {
      "cell_type": "code",
      "metadata": {
        "id": "0DT-H9W0XFGC",
        "outputId": "eac0c079-ca6c-46b1-d311-5a40140161f4",
        "colab": {
          "base_uri": "https://localhost:8080/",
          "height": 51
        }
      },
      "source": [
        "from bnlp import NLTKTokenizer\n",
        "\n",
        "bnltk = NLTKTokenizer()\n",
        "text = \"আমি ভাত খাই। সে বাজারে যায়। তিনি কি সত্যিই ভালো মানুষ?\"\n",
        "word_tokens = bnltk.word_tokenize(text)\n",
        "sentence_tokens = bnltk.sentence_tokenize(text)\n",
        "print(word_tokens)\n",
        "print(sentence_tokens)"
      ],
      "execution_count": 11,
      "outputs": [
        {
          "output_type": "stream",
          "text": [
            "['আমি', 'ভাত', 'খাই', '।', 'সে', 'বাজারে', 'যায়', '।', 'তিনি', 'কি', 'সত্যিই', 'ভালো', 'মানুষ', '?']\n",
            "['আমি ভাত খাই।', 'সে বাজারে যায়।', 'তিনি কি সত্যিই ভালো মানুষ?']\n"
          ],
          "name": "stdout"
        }
      ]
    },
    {
      "cell_type": "markdown",
      "metadata": {
        "id": "puSrp9bBXklx"
      },
      "source": [
        "## Word Embedding"
      ]
    },
    {
      "cell_type": "markdown",
      "metadata": {
        "id": "k4JTRdBIXmmV"
      },
      "source": [
        "### Bengali Word2Vec"
      ]
    },
    {
      "cell_type": "code",
      "metadata": {
        "id": "aTPKDulmXT5B",
        "outputId": "00f715df-da14-48ec-be4a-ed27e887b472",
        "colab": {
          "base_uri": "https://localhost:8080/",
          "height": 1000
        }
      },
      "source": [
        "from bnlp import BengaliWord2Vec\n",
        "\n",
        "bwv = BengaliWord2Vec()\n",
        "model_path = \"models/bangla_word2vec/bnwiki_word2vec.model\"\n",
        "word = 'গ্রাম'\n",
        "vector = bwv.generate_word_vector(model_path, word)\n",
        "print(vector.shape)\n",
        "print(vector)"
      ],
      "execution_count": 14,
      "outputs": [
        {
          "output_type": "stream",
          "text": [
            "/usr/local/lib/python3.6/dist-packages/smart_open/smart_open_lib.py:252: UserWarning: This function is deprecated, use smart_open.open instead. See the migration notes for details: https://github.com/RaRe-Technologies/smart_open/blob/master/README.rst#migrating-to-the-new-open-function\n",
            "  'See the migration notes for details: %s' % _MIGRATION_NOTES_URL\n"
          ],
          "name": "stderr"
        },
        {
          "output_type": "stream",
          "text": [
            "(300,)\n",
            "[-1.6936177e+00  3.5159554e-02 -8.5707474e-03  4.6422979e-01\n",
            "  4.7176498e-01 -1.1240785e-03  5.2726853e-01  9.6344274e-01\n",
            "  4.3611592e-01 -2.4183762e+00 -1.1882383e+00 -6.1812967e-01\n",
            " -2.6307828e+00 -6.1543208e-01 -1.0401576e+00 -4.4781092e-01\n",
            " -8.7368643e-01 -6.5588124e-02 -1.9416760e+00 -8.5976779e-01\n",
            "  8.9258450e-01 -5.2980870e-01 -1.1779339e+00  1.6538888e-01\n",
            "  5.7090968e-01 -6.8303603e-01 -5.8089417e-01  1.9823054e+00\n",
            "  1.5652509e+00 -1.8102252e+00  5.1018655e-01  1.1032093e+00\n",
            " -1.0756480e+00  1.1780707e+00  1.1778240e+00 -5.2861094e-01\n",
            "  3.8371810e-01  9.7755694e-01  7.2286832e-01  4.4961435e-01\n",
            " -1.0284587e+00 -4.9218610e-01  7.0426416e-01  5.1277459e-02\n",
            "  7.9809263e-02 -2.3158913e+00 -5.1341558e-01  2.5855860e-01\n",
            " -1.4927088e+00 -1.4820724e+00  1.1150364e+00 -3.9570293e-01\n",
            "  4.6147889e-01  8.7402004e-01 -1.1148657e+00  1.7493018e+00\n",
            "  6.5046811e-01  1.6666926e+00  2.6500010e+00  1.1857886e+00\n",
            "  7.1161926e-01 -1.2677008e+00 -1.1069984e+00 -7.8171343e-01\n",
            " -8.2391447e-01 -6.8753582e-01 -8.7682301e-01 -8.2514966e-01\n",
            " -3.0498229e-02 -7.0533752e-01  8.2660657e-01  1.1412406e+00\n",
            " -2.5937727e-01 -1.9717888e+00  1.5460135e+00 -3.1852472e+00\n",
            "  3.3784008e-01  6.8494946e-01 -3.4856927e-01 -3.0506346e-01\n",
            "  2.0271671e+00  5.2941561e-01  2.1754713e+00  8.5661399e-01\n",
            " -1.0528305e+00 -3.0799332e-01  8.7379396e-01  1.0237061e+00\n",
            "  2.0865424e+00  1.2951910e+00  3.9156887e-01 -1.3587707e-01\n",
            "  9.8269619e-02 -9.8998255e-01 -1.2180190e+00 -1.1273131e+00\n",
            " -5.3762996e-01 -3.0342671e-01  1.7157787e+00  2.3776653e+00\n",
            " -1.5833216e+00 -4.5981720e-01  6.2183112e-01 -1.0877959e-01\n",
            "  1.0811206e+00 -2.2173911e-01  1.7598602e+00 -1.0053164e+00\n",
            "  2.6430690e+00 -3.9756349e-01  2.8827155e-01 -7.8981394e-01\n",
            "  1.8065584e+00  1.0892041e+00  3.7707627e-01 -1.5087554e+00\n",
            "  5.4679918e-01 -1.3956569e+00  5.0552899e-01 -4.1878790e-01\n",
            " -1.6746813e+00 -1.1661299e+00 -8.7835902e-01  2.0673523e+00\n",
            " -9.5483857e-01  1.0412294e+00 -1.6789682e+00  3.0032885e-01\n",
            "  5.4572213e-01 -7.3649937e-01  5.6596506e-01 -9.6439111e-01\n",
            " -3.3745909e-01 -5.6574017e-02  2.2598121e+00  1.0235566e+00\n",
            "  5.0854874e-01  1.4404486e+00  1.0586246e-02  1.6751351e+00\n",
            "  4.8426911e-01 -3.1194970e-01 -5.0971246e-01 -1.2165993e-01\n",
            "  3.2566616e-01 -1.0449820e-01 -5.6025159e-01  8.6913031e-01\n",
            "  1.9937924e+00  9.9562311e-01 -1.0535994e+00 -2.4150908e+00\n",
            "  1.5591273e+00 -1.3299772e+00  2.1345844e+00  4.9978071e-01\n",
            " -1.0128185e+00  2.4511893e+00  2.0886566e-01 -3.1336019e+00\n",
            " -1.5735002e+00 -1.6979501e+00  1.2635545e+00 -1.2096975e+00\n",
            "  9.3895262e-01  2.0871561e+00  1.7284758e+00  1.3041421e+00\n",
            "  6.3735847e-03 -2.8382945e+00  1.4734867e+00 -1.1252853e+00\n",
            " -6.0585493e-01 -1.1510065e+00  1.6629120e+00 -1.2078977e+00\n",
            " -5.6224471e-01  1.8541627e+00  1.4203759e+00  2.1362298e+00\n",
            " -2.1803112e+00 -2.4910698e+00  1.1147881e+00  3.5771835e+00\n",
            "  9.4574040e-01  9.7093630e-01  1.3996384e-01  7.6980129e-02\n",
            "  2.1910880e+00 -1.2463869e+00 -8.5593385e-01 -8.0959368e-01\n",
            "  5.9241825e-01  2.6773450e+00 -1.8033402e-01 -8.9984804e-01\n",
            "  8.8016599e-01  1.7101929e-02  8.9888740e-01  6.5351367e-01\n",
            " -3.5143070e+00  8.2726967e-01 -8.4077835e-01  1.4361624e-01\n",
            "  2.3968842e+00 -6.1850441e-01  1.0766664e+00 -2.1670136e+00\n",
            "  2.1858683e-01  3.3867745e+00  1.4087065e+00 -8.8393092e-01\n",
            "  1.1560943e+00  2.9767567e-01  1.1295917e+00 -1.2428216e+00\n",
            "  4.9076313e-01 -4.6654737e-01  1.2767588e+00  4.5028117e-01\n",
            "  4.0964296e-01  1.1227398e+00  3.7367544e-01 -1.9939226e+00\n",
            " -9.3416274e-01  2.5645795e-01 -6.1729950e-01  1.9303987e+00\n",
            " -9.0801793e-01  1.4290047e+00 -1.2430988e-01  5.4137725e-01\n",
            "  7.0000398e-01 -1.7567229e+00  3.0071577e-01  3.0366322e-01\n",
            " -1.7538342e-01 -1.7800355e+00  3.8324597e+00 -2.1982162e+00\n",
            " -1.2678256e+00 -1.3904521e+00 -3.1966752e-01 -1.1257986e+00\n",
            "  1.4068267e+00  2.0641704e+00 -1.9633348e+00 -8.0784440e-02\n",
            "  3.8715309e-01  2.4960208e+00 -1.4199735e+00  3.5357758e-01\n",
            " -1.3695159e+00 -4.1389145e-02 -1.3028133e+00  1.0722306e+00\n",
            "  1.9037397e+00 -1.2049222e+00  2.8729671e-01 -7.5808257e-01\n",
            "  1.7927357e+00  2.4462596e-01  2.3165958e+00  9.8110563e-01\n",
            "  1.3860238e+00  2.3580816e+00 -2.2748315e+00 -7.7638298e-01\n",
            " -1.5275376e-01 -5.4983896e-01  6.4050668e-01 -1.8792859e+00\n",
            " -5.7933901e-02 -1.7894695e+00 -2.4457166e+00  4.1609299e-01\n",
            "  1.0766597e+00  2.0768654e+00  1.1190468e+00 -1.6371150e+00\n",
            " -1.1244353e-01 -5.6699931e-04 -5.6991792e-01 -1.0367104e+00\n",
            " -8.5223323e-01  9.3839818e-01 -1.3901943e+00 -5.3328969e-02\n",
            " -9.1770902e-02  5.7934359e-02 -1.4965558e+00  5.6581467e-02\n",
            "  1.5872321e+00 -1.3655971e+00  4.0760364e-02  2.6978856e-01\n",
            " -3.6145419e-01  9.0290827e-01  2.0679438e-01 -2.0116158e+00]\n"
          ],
          "name": "stdout"
        }
      ]
    },
    {
      "cell_type": "code",
      "metadata": {
        "id": "TXN7oFCHYRdB",
        "outputId": "0711aec5-3fc6-4dc9-fdf5-68ba0b63ec0a",
        "colab": {
          "base_uri": "https://localhost:8080/",
          "height": 122
        }
      },
      "source": [
        "from bnlp import BengaliWord2Vec\n",
        "\n",
        "bwv = BengaliWord2Vec()\n",
        "model_path = \"models/bangla_word2vec/bnwiki_word2vec.model\"\n",
        "word = 'গ্রাম'\n",
        "similar = bwv.most_similar(model_path, word)\n",
        "print(similar)"
      ],
      "execution_count": 15,
      "outputs": [
        {
          "output_type": "stream",
          "text": [
            "/usr/local/lib/python3.6/dist-packages/smart_open/smart_open_lib.py:252: UserWarning: This function is deprecated, use smart_open.open instead. See the migration notes for details: https://github.com/RaRe-Technologies/smart_open/blob/master/README.rst#migrating-to-the-new-open-function\n",
            "  'See the migration notes for details: %s' % _MIGRATION_NOTES_URL\n",
            "/usr/local/lib/python3.6/dist-packages/gensim/matutils.py:737: FutureWarning: Conversion of the second argument of issubdtype from `int` to `np.signedinteger` is deprecated. In future, it will be treated as `np.int64 == np.dtype(int).type`.\n",
            "  if np.issubdtype(vec.dtype, np.int):\n"
          ],
          "name": "stderr"
        },
        {
          "output_type": "stream",
          "text": [
            "[('মৌজা', 0.7365161180496216), ('গ্রাম,', 0.6939323544502258), ('গ্রামটি', 0.6869181394577026), ('পুরসভা', 0.6866500377655029), ('গ্রামের', 0.6699343919754028), ('৪২.৫৭', 0.6655560731887817), ('মৌজার', 0.66482013463974), ('ব্লকে', 0.6518076062202454), ('পঞ্চায়েত', 0.6460636258125305), ('মহল্লা', 0.6451084017753601)]\n"
          ],
          "name": "stdout"
        }
      ]
    },
    {
      "cell_type": "markdown",
      "metadata": {
        "id": "FpQsPWd5ZcwR"
      },
      "source": [
        "### Bengali Fasttext\n",
        "Install fasttext and restart runtime"
      ]
    },
    {
      "cell_type": "code",
      "metadata": {
        "id": "m-ElsxXXIJHh",
        "outputId": "1ba5bef1-9c4c-471a-d6ab-b9829d5771cb",
        "colab": {
          "base_uri": "https://localhost:8080/",
          "height": 258
        }
      },
      "source": [
        "!pip install fasttext"
      ],
      "execution_count": 16,
      "outputs": [
        {
          "output_type": "stream",
          "text": [
            "Collecting fasttext\n",
            "\u001b[?25l  Downloading https://files.pythonhosted.org/packages/f8/85/e2b368ab6d3528827b147fdb814f8189acc981a4bc2f99ab894650e05c40/fasttext-0.9.2.tar.gz (68kB)\n",
            "\r\u001b[K     |████▊                           | 10kB 22.5MB/s eta 0:00:01\r\u001b[K     |█████████▌                      | 20kB 3.7MB/s eta 0:00:01\r\u001b[K     |██████████████▎                 | 30kB 5.3MB/s eta 0:00:01\r\u001b[K     |███████████████████             | 40kB 5.8MB/s eta 0:00:01\r\u001b[K     |███████████████████████▉        | 51kB 5.0MB/s eta 0:00:01\r\u001b[K     |████████████████████████████▋   | 61kB 5.2MB/s eta 0:00:01\r\u001b[K     |████████████████████████████████| 71kB 3.5MB/s \n",
            "\u001b[?25hRequirement already satisfied: pybind11>=2.2 in /usr/local/lib/python3.6/dist-packages (from fasttext) (2.6.0)\n",
            "Requirement already satisfied: setuptools>=0.7.0 in /usr/local/lib/python3.6/dist-packages (from fasttext) (50.3.0)\n",
            "Requirement already satisfied: numpy in /usr/local/lib/python3.6/dist-packages (from fasttext) (1.18.5)\n",
            "Building wheels for collected packages: fasttext\n",
            "  Building wheel for fasttext (setup.py) ... \u001b[?25l\u001b[?25hdone\n",
            "  Created wheel for fasttext: filename=fasttext-0.9.2-cp36-cp36m-linux_x86_64.whl size=3028066 sha256=f23234e875ccd7930a0b1822a53eb7c8439a1a8591c43a15efa3ebf98d8d53e6\n",
            "  Stored in directory: /root/.cache/pip/wheels/98/ba/7f/b154944a1cf5a8cee91c154b75231136cc3a3321ab0e30f592\n",
            "Successfully built fasttext\n",
            "Installing collected packages: fasttext\n",
            "Successfully installed fasttext-0.9.2\n"
          ],
          "name": "stdout"
        }
      ]
    },
    {
      "cell_type": "code",
      "metadata": {
        "id": "ICGKCZbRYuue",
        "outputId": "70b19b82-958b-4f92-f259-4f1b23dd21e4",
        "colab": {
          "base_uri": "https://localhost:8080/",
          "height": 340
        }
      },
      "source": [
        "from bnlp.embedding.fasttext import BengaliFasttext\n",
        "\n",
        "bft = BengaliFasttext()\n",
        "word = \"গ্রাম\"\n",
        "model_path = \"models/bengali_fasttext_wiki.bin\"\n",
        "word_vector = bft.generate_word_vector(model_path, word)\n",
        "print(word_vector.shape)\n",
        "print(word_vector)"
      ],
      "execution_count": 2,
      "outputs": [
        {
          "output_type": "stream",
          "text": [
            "(100,)\n",
            "[ 0.22730371 -0.40870905 -0.15613425  0.3804481  -0.05980289 -0.28930932\n",
            "  0.34626344  0.40258473 -0.90198106  0.4493182  -0.7325722   0.04727728\n",
            "  0.7795627   0.12068285  0.4670834   0.86121595  0.19153564  0.22014432\n",
            " -0.73635215  0.4743112   0.04276856  0.24542333  0.58513665 -0.49344873\n",
            "  1.2036309  -0.37963045 -0.52979314  0.42768055 -0.2915344   0.6429044\n",
            " -0.24786738 -0.34868303  0.5416647  -0.19672239 -0.5149317  -0.4899621\n",
            "  0.41403815  0.84034336  0.43055257  0.05744093  1.0355072   0.6728295\n",
            " -0.46993157 -0.8494765   0.33383992  0.3980397   0.06346162 -1.2393602\n",
            "  0.18511884 -0.10365435 -1.0729522   0.2701686  -0.48516303  0.7226823\n",
            "  0.4941565  -0.14498085 -0.1882495   0.01020508  1.3079278  -1.0012709\n",
            "  0.13207525  0.05821019 -0.5525221   0.13435237  1.1650416  -0.08389879\n",
            " -0.34301072  0.7302537  -0.1674301   0.2222631   0.56786853  0.06164984\n",
            "  0.4102374   0.1456264  -0.28646046 -0.21075231  0.6185989  -0.4345684\n",
            " -0.15338174  0.96878874  0.56596994 -0.18027176  0.08185344  0.563611\n",
            " -0.2742687  -0.07975687  0.70638406  0.34093252  0.7824108   0.8325492\n",
            " -1.0650607   0.8536281   0.5853429   0.12890655 -0.2779051  -0.6521946\n",
            " -0.3292202  -1.3018389  -0.9134306   0.86215734]\n"
          ],
          "name": "stdout"
        },
        {
          "output_type": "stream",
          "text": [
            "Warning : `load_model` does not return WordVectorModel or SupervisedModel any more, but a `FastText` object which is very similar.\n"
          ],
          "name": "stderr"
        }
      ]
    },
    {
      "cell_type": "markdown",
      "metadata": {
        "id": "8tEPivPeZhqF"
      },
      "source": [
        "## Bengali POS Tagging"
      ]
    },
    {
      "cell_type": "code",
      "metadata": {
        "id": "FCMr4ZkbZPZG",
        "outputId": "ae236c52-05fb-4509-9a16-34c2f3a303e8",
        "colab": {
          "base_uri": "https://localhost:8080/",
          "height": 34
        }
      },
      "source": [
        "from bnlp import POS\n",
        "bn_pos = POS()\n",
        "model_path = \"models/bn_pos.pkl\"\n",
        "text = \"আমি ভাত খাই।\"\n",
        "res = bn_pos.tag(model_path, text)\n",
        "print(res)"
      ],
      "execution_count": 3,
      "outputs": [
        {
          "output_type": "stream",
          "text": [
            "[('আমি', 'PPR'), ('ভাত', 'NC'), ('খাই', 'VM'), ('।', 'PU')]\n"
          ],
          "name": "stdout"
        }
      ]
    },
    {
      "cell_type": "markdown",
      "metadata": {
        "id": "x4lzRvVaqtw7"
      },
      "source": [
        "## Bengali Name Entity Recognition"
      ]
    },
    {
      "cell_type": "code",
      "metadata": {
        "id": "Kr23_fZbZkul",
        "outputId": "4a61ae37-be2d-40d2-d9ff-cc7bfe0e8997",
        "colab": {
          "base_uri": "https://localhost:8080/",
          "height": 34
        }
      },
      "source": [
        "from bnlp import NER\n",
        "bn_ner = NER()\n",
        "model_path = \"models/bn_ner.pkl\"\n",
        "text = \"সে ঢাকায় থাকে।\"\n",
        "result = bn_ner.tag(model_path, text)\n",
        "print(result)"
      ],
      "execution_count": 4,
      "outputs": [
        {
          "output_type": "stream",
          "text": [
            "[('সে', 'O'), ('ঢাকায়', 'S-LOC'), ('থাকে', 'O')]\n"
          ],
          "name": "stdout"
        }
      ]
    },
    {
      "cell_type": "markdown",
      "metadata": {
        "id": "86HNdJIIJmoY"
      },
      "source": [
        "# Bengali Corpus Class"
      ]
    },
    {
      "cell_type": "markdown",
      "metadata": {
        "id": "Ub43jYHZJ291"
      },
      "source": [
        "## Stopwords and Punctuations"
      ]
    },
    {
      "cell_type": "code",
      "metadata": {
        "id": "GMfaIogmtPnk",
        "outputId": "2937f07e-11cb-465a-b5d0-c31adcf3baf8",
        "colab": {
          "base_uri": "https://localhost:8080/",
          "height": 71
        }
      },
      "source": [
        "from bnlp.corpus import stopwords, punctuations, letters, digits\n",
        "\n",
        "print(stopwords)\n",
        "print(punctuations)\n",
        "print(letters)\n",
        "print(digits)"
      ],
      "execution_count": 5,
      "outputs": [
        {
          "output_type": "stream",
          "text": [
            "['অতএব', 'অথচ', 'অথবা', 'অনুযায়ী', 'অনেক', 'অনেকে', 'অনেকেই', 'অন্তত', 'অন্য', 'অবধি', 'অবশ্য', 'অর্থাত', 'আই', 'আগামী', 'আগে', 'আগেই', 'আছে', 'আজ', 'আদ্যভাগে', 'আপনার', 'আপনি', 'আবার', 'আমরা', 'আমাকে', 'আমাদের', 'আমার', 'আমি', 'আর', 'আরও', 'ই', 'ইত্যাদি', 'ইহা', 'উচিত', 'উত্তর', 'উনি', 'উপর', 'উপরে', 'এ', 'এঁদের', 'এঁরা', 'এই', 'একই', 'একটি', 'একবার', 'একে', 'এক্', 'এখন', 'এখনও', 'এখানে', 'এখানেই', 'এটা', 'এটাই', 'এটি', 'এত', 'এতটাই', 'এতে', 'এদের', 'এব', 'এবং', 'এবার', 'এমন', 'এমনকী', 'এমনি', 'এর', 'এরা', 'এল', 'এস', 'এসে', 'ঐ', 'ও', 'ওঁদের', 'ওঁর', 'ওঁরা', 'ওই', 'ওকে', 'ওখানে', 'ওদের', 'ওর', 'ওরা', 'কখনও', 'কত', 'কবে', 'কমনে', 'কয়েক', 'কয়েকটি', 'করছে', 'করছেন', 'করতে', 'করবে', 'করবেন', 'করলে', 'করলেন', 'করা', 'করাই', 'করায়', 'করার', 'করি', 'করিতে', 'করিয়া', 'করিয়ে', 'করে', 'করেই', 'করেছিলেন', 'করেছে', 'করেছেন', 'করেন', 'কাউকে', 'কাছ', 'কাছে', 'কাজ', 'কাজে', 'কারও', 'কারণ', 'কি', 'কিংবা', 'কিছু', 'কিছুই', 'কিন্তু', 'কী', 'কে', 'কেউ', 'কেউই', 'কেখা', 'কেন', 'কোটি', 'কোন', 'কোনও', 'কোনো', 'ক্ষেত্রে', 'কয়েক', 'খুব', 'গিয়ে', 'গিয়েছে', 'গিয়ে', 'গুলি', 'গেছে', 'গেল', 'গেলে', 'গোটা', 'চলে', 'চান', 'চায়', 'চার', 'চালু', 'চেয়ে', 'চেষ্টা', 'ছাড়া', 'ছাড়াও', 'ছিল', 'ছিলেন', 'জন', 'জনকে', 'জনের', 'জন্য', 'জন্যওজে', 'জানতে', 'জানা', 'জানানো', 'জানায়', 'জানিয়ে', 'জানিয়েছে', 'জে', 'জ্নজন', 'টি', 'ঠিক', 'তখন', 'তত', 'তথা', 'তবু', 'তবে', 'তা', 'তাঁকে', 'তাঁদের', 'তাঁর', 'তাঁরা', 'তাঁাহারা', 'তাই', 'তাও', 'তাকে', 'তাতে', 'তাদের', 'তার', 'তারপর', 'তারা', 'তারৈ', 'তাহলে', 'তাহা', 'তাহাতে', 'তাহার', 'তিনঐ', 'তিনি', 'তিনিও', 'তুমি', 'তুলে', 'তেমন', 'তো', 'তোমার', 'থাকবে', 'থাকবেন', 'থাকা', 'থাকায়', 'থাকে', 'থাকেন', 'থেকে', 'থেকেই', 'থেকেও', 'দিকে', 'দিতে', 'দিন', 'দিয়ে', 'দিয়েছে', 'দিয়েছেন', 'দিলেন', 'দু', 'দুই', 'দুটি', 'দুটো', 'দেওয়া', 'দেওয়ার', 'দেওয়া', 'দেখতে', 'দেখা', 'দেখে', 'দেন', 'দেয়', 'দ্বারা', 'ধরা', 'ধরে', 'ধামার', 'নতুন', 'নয়', 'না', 'নাই', 'নাকি', 'নাগাদ', 'নানা', 'নিজে', 'নিজেই', 'নিজেদের', 'নিজের', 'নিতে', 'নিয়ে', 'নিয়ে', 'নেই', 'নেওয়া', 'নেওয়ার', 'নেওয়া', 'নয়', 'পক্ষে', 'পর', 'পরে', 'পরেই', 'পরেও', 'পর্যন্ত', 'পাওয়া', 'পাচ', 'পারি', 'পারে', 'পারেন', 'পি', 'পেয়ে', 'পেয়্র্', 'প্রতি', 'প্রথম', 'প্রভৃতি', 'প্রযন্ত', 'প্রাথমিক', 'প্রায়', 'প্রায়', 'ফলে', 'ফিরে', 'ফের', 'বক্তব্য', 'বদলে', 'বন', 'বরং', 'বলতে', 'বলল', 'বললেন', 'বলা', 'বলে', 'বলেছেন', 'বলেন', 'বসে', 'বহু', 'বা', 'বাদে', 'বার', 'বি', 'বিনা', 'বিভিন্ন', 'বিশেষ', 'বিষয়টি', 'বেশ', 'বেশি', 'ব্যবহার', 'ব্যাপারে', 'ভাবে', 'ভাবেই', 'মতো', 'মতোই', 'মধ্যভাগে', 'মধ্যে', 'মধ্যেই', 'মধ্যেও', 'মনে', 'মাত্র', 'মাধ্যমে', 'মোট', 'মোটেই', 'যখন', 'যত', 'যতটা', 'যথেষ্ট', 'যদি', 'যদিও', 'যা', 'যাঁর', 'যাঁরা', 'যাওয়া', 'যাওয়ার', 'যাওয়া', 'যাকে', 'যাচ্ছে', 'যাতে', 'যাদের', 'যান', 'যাবে', 'যায়', 'যার', 'যারা', 'যিনি', 'যে', 'যেখানে', 'যেতে', 'যেন', 'যেমন', 'র', 'রকম', 'রয়েছে', 'রাখা', 'রেখে', 'লক্ষ', 'শুধু', 'শুরু', 'সঙ্গে', 'সঙ্গেও', 'সব', 'সবার', 'সমস্ত', 'সম্প্রতি', 'সহ', 'সহিত', 'সাধারণ', 'সামনে', 'সি', 'সুতরাং', 'সে', 'সেই', 'সেখান', 'সেখানে', 'সেটা', 'সেটাই', 'সেটাও', 'সেটি', 'স্পষ্ট', 'স্বয়ং', 'হইতে', 'হইবে', 'হইয়া', 'হওয়া', 'হওয়ায়', 'হওয়ার', 'হচ্ছে', 'হত', 'হতে', 'হতেই', 'হন', 'হবে', 'হবেন', 'হয়', 'হয়তো', 'হয়নি', 'হয়ে', 'হয়েই', 'হয়েছিল', 'হয়েছে', 'হয়েছেন', 'হল', 'হলে', 'হলেই', 'হলেও', 'হলো', 'হাজার', 'হিসাবে', 'হৈলে', 'হোক', 'হয়']\n",
            "!\"#$%&'()*+,-./:;<=>?@[\\]^_`{|}~।ঃ\n"
          ],
          "name": "stdout"
        }
      ]
    },
    {
      "cell_type": "markdown",
      "metadata": {
        "id": "KWtWAE7SJ9CL"
      },
      "source": [
        "## Remove stopwords from text"
      ]
    },
    {
      "cell_type": "code",
      "metadata": {
        "id": "FFmusO3OJ0YG",
        "outputId": "086c0a69-7b70-43a6-9020-9ecd1db41277",
        "colab": {
          "base_uri": "https://localhost:8080/",
          "height": 34
        }
      },
      "source": [
        "from bnlp.corpus import stopwords\n",
        "from bnlp.corpus.util import remove_stopwords\n",
        "\n",
        "raw_text = 'আমি ভাত খাই।' \n",
        "result = remove_stopwords(raw_text, stopwords)\n",
        "print(result)\n",
        "# ['ভাত', 'খাই', '।']"
      ],
      "execution_count": 6,
      "outputs": [
        {
          "output_type": "stream",
          "text": [
            "['ভাত', 'খাই', '।']\n"
          ],
          "name": "stdout"
        }
      ]
    },
    {
      "cell_type": "code",
      "metadata": {
        "id": "DKK0lDFoJ_c6"
      },
      "source": [],
      "execution_count": null,
      "outputs": []
    }
  ]
}